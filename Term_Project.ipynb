{
 "cells": [
  {
   "cell_type": "markdown",
   "metadata": {},
   "source": [
    "# Board Game Rating Prediction (Term Project)\n",
    "## Name: Jay Nitin Chaphekar\n",
    "## UTA ID: 1001763932"
   ]
  },
  {
   "cell_type": "markdown",
   "metadata": {},
   "source": [
    "## Introduction\n",
    "This project is based on the NLP (Natural Language Processing) domain which includes the analysing text data and predicting sentiments based on the user reviews. This includes analyzing the data removing stopwords, creating vocabulary of meaningful words, finding the best classfier with suitable hyperarameters and based on that predicting the rating of the review "
   ]
  },
  {
   "cell_type": "markdown",
   "metadata": {},
   "source": [
    "## Project Description\n",
    "The goal of this project is to predict ratings of the given game reviews by the users. After selecting a best model hosting it to the website for good user experience.\n"
   ]
  },
  {
   "cell_type": "markdown",
   "metadata": {},
   "source": [
    "### Importing Libraries"
   ]
  },
  {
   "cell_type": "code",
   "execution_count": 93,
   "metadata": {},
   "outputs": [],
   "source": [
    "import pandas as pd\n",
    "import numpy as np\n",
    "import matplotlib.pyplot as plt\n",
    "from sklearn.model_selection import train_test_split\n",
    "from sklearn.naive_bayes import GaussianNB\n",
    "from sklearn.naive_bayes import MultinomialNB\n",
    "from sklearn.feature_extraction.text import CountVectorizer\n",
    "from nltk.tokenize import RegexpTokenizer\n",
    "from sklearn.tree import DecisionTreeClassifier\n",
    "from sklearn import svm\n",
    "import pickle\n",
    "from sklearn.naive_bayes import BernoulliNB\n",
    "from sklearn.linear_model import RidgeClassifier\n",
    "from sklearn.model_selection import cross_val_score\n",
    "from sklearn import metrics\n",
    "from sklearn.feature_extraction.text import HashingVectorizer\n",
    "from sklearn.feature_extraction.text import TfidfVectorizer"
   ]
  },
  {
   "cell_type": "markdown",
   "metadata": {},
   "source": [
    "### Reading Data\n",
    "\n"
   ]
  },
  {
   "cell_type": "code",
   "execution_count": 2,
   "metadata": {},
   "outputs": [
    {
     "data": {
      "text/html": [
       "<div>\n",
       "<style scoped>\n",
       "    .dataframe tbody tr th:only-of-type {\n",
       "        vertical-align: middle;\n",
       "    }\n",
       "\n",
       "    .dataframe tbody tr th {\n",
       "        vertical-align: top;\n",
       "    }\n",
       "\n",
       "    .dataframe thead th {\n",
       "        text-align: right;\n",
       "    }\n",
       "</style>\n",
       "<table border=\"1\" class=\"dataframe\">\n",
       "  <thead>\n",
       "    <tr style=\"text-align: right;\">\n",
       "      <th></th>\n",
       "      <th>Unnamed: 0</th>\n",
       "      <th>user</th>\n",
       "      <th>rating</th>\n",
       "      <th>comment</th>\n",
       "      <th>ID</th>\n",
       "      <th>name</th>\n",
       "    </tr>\n",
       "  </thead>\n",
       "  <tbody>\n",
       "    <tr>\n",
       "      <th>0</th>\n",
       "      <td>0</td>\n",
       "      <td>Torsten</td>\n",
       "      <td>10.0</td>\n",
       "      <td>NaN</td>\n",
       "      <td>30549</td>\n",
       "      <td>Pandemic</td>\n",
       "    </tr>\n",
       "    <tr>\n",
       "      <th>1</th>\n",
       "      <td>1</td>\n",
       "      <td>mitnachtKAUBO-I</td>\n",
       "      <td>10.0</td>\n",
       "      <td>Hands down my favorite new game of BGG CON 200...</td>\n",
       "      <td>30549</td>\n",
       "      <td>Pandemic</td>\n",
       "    </tr>\n",
       "    <tr>\n",
       "      <th>2</th>\n",
       "      <td>2</td>\n",
       "      <td>avlawn</td>\n",
       "      <td>10.0</td>\n",
       "      <td>I tend to either love or easily tire of co-op ...</td>\n",
       "      <td>30549</td>\n",
       "      <td>Pandemic</td>\n",
       "    </tr>\n",
       "    <tr>\n",
       "      <th>3</th>\n",
       "      <td>3</td>\n",
       "      <td>Mike Mayer</td>\n",
       "      <td>10.0</td>\n",
       "      <td>NaN</td>\n",
       "      <td>30549</td>\n",
       "      <td>Pandemic</td>\n",
       "    </tr>\n",
       "    <tr>\n",
       "      <th>4</th>\n",
       "      <td>4</td>\n",
       "      <td>Mease19</td>\n",
       "      <td>10.0</td>\n",
       "      <td>This is an amazing co-op game.  I play mostly ...</td>\n",
       "      <td>30549</td>\n",
       "      <td>Pandemic</td>\n",
       "    </tr>\n",
       "  </tbody>\n",
       "</table>\n",
       "</div>"
      ],
      "text/plain": [
       "   Unnamed: 0             user  rating  \\\n",
       "0           0          Torsten    10.0   \n",
       "1           1  mitnachtKAUBO-I    10.0   \n",
       "2           2           avlawn    10.0   \n",
       "3           3       Mike Mayer    10.0   \n",
       "4           4          Mease19    10.0   \n",
       "\n",
       "                                             comment     ID      name  \n",
       "0                                                NaN  30549  Pandemic  \n",
       "1  Hands down my favorite new game of BGG CON 200...  30549  Pandemic  \n",
       "2  I tend to either love or easily tire of co-op ...  30549  Pandemic  \n",
       "3                                                NaN  30549  Pandemic  \n",
       "4  This is an amazing co-op game.  I play mostly ...  30549  Pandemic  "
      ]
     },
     "execution_count": 2,
     "metadata": {},
     "output_type": "execute_result"
    }
   ],
   "source": [
    "data=pd.read_csv('C:/Users/chaph/Desktop/DM/archive/bgg-15m-reviews.csv')\n",
    "data.head()"
   ]
  },
  {
   "cell_type": "markdown",
   "metadata": {},
   "source": [
    "By looking at the data we can see that the data has six columns. For the rating prediction we only need rating and the comment columns."
   ]
  },
  {
   "cell_type": "code",
   "execution_count": 3,
   "metadata": {},
   "outputs": [],
   "source": [
    "data=data.iloc[:,[2,3]]\n",
    "data['comment'] = data['comment'].str.lower()"
   ]
  },
  {
   "cell_type": "code",
   "execution_count": 4,
   "metadata": {},
   "outputs": [
    {
     "data": {
      "text/plain": [
       "15823269"
      ]
     },
     "execution_count": 4,
     "metadata": {},
     "output_type": "execute_result"
    }
   ],
   "source": [
    "len(data[\"comment\"])\n"
   ]
  },
  {
   "cell_type": "markdown",
   "metadata": {},
   "source": [
    "By looking at the data we can see that our data has more positive data than the negative data and has more reviews with rating 7-8."
   ]
  },
  {
   "cell_type": "code",
   "execution_count": 5,
   "metadata": {},
   "outputs": [
    {
     "data": {
      "image/png": "[encoded data removed]",
      "text/plain": [
       "<Figure size 432x288 with 1 Axes>"
      ]
     },
     "metadata": {
      "needs_background": "light"
     },
     "output_type": "display_data"
    }
   ],
   "source": [
    "plt.hist(data[\"rating\"])\n",
    "plt.show()"
   ]
  },
  {
   "cell_type": "code",
   "execution_count": 6,
   "metadata": {},
   "outputs": [
    {
     "data": {
      "text/plain": [
       "7.00000    3566154\n",
       "8.00000    3002815\n",
       "6.00000    2346047\n",
       "9.00000    1424911\n",
       "5.00000    1077762\n",
       "            ...   \n",
       "6.48204          1\n",
       "7.25410          1\n",
       "9.00040          1\n",
       "4.59100          1\n",
       "2.20600          1\n",
       "Name: rating, Length: 10172, dtype: int64"
      ]
     },
     "execution_count": 6,
     "metadata": {},
     "output_type": "execute_result"
    }
   ],
   "source": [
    "data.rating.value_counts()"
   ]
  },
  {
   "cell_type": "markdown",
   "metadata": {},
   "source": [
    "## Preprocessing the data"
   ]
  },
  {
   "cell_type": "markdown",
   "metadata": {},
   "source": [
    "### Dropping null values "
   ]
  },
  {
   "cell_type": "code",
   "execution_count": 7,
   "metadata": {},
   "outputs": [
    {
     "data": {
      "text/html": [
       "<div>\n",
       "<style scoped>\n",
       "    .dataframe tbody tr th:only-of-type {\n",
       "        vertical-align: middle;\n",
       "    }\n",
       "\n",
       "    .dataframe tbody tr th {\n",
       "        vertical-align: top;\n",
       "    }\n",
       "\n",
       "    .dataframe thead th {\n",
       "        text-align: right;\n",
       "    }\n",
       "</style>\n",
       "<table border=\"1\" class=\"dataframe\">\n",
       "  <thead>\n",
       "    <tr style=\"text-align: right;\">\n",
       "      <th></th>\n",
       "      <th>rating</th>\n",
       "      <th>comment</th>\n",
       "    </tr>\n",
       "  </thead>\n",
       "  <tbody>\n",
       "    <tr>\n",
       "      <th>1</th>\n",
       "      <td>10.0</td>\n",
       "      <td>hands down my favorite new game of bgg con 200...</td>\n",
       "    </tr>\n",
       "    <tr>\n",
       "      <th>2</th>\n",
       "      <td>10.0</td>\n",
       "      <td>i tend to either love or easily tire of co-op ...</td>\n",
       "    </tr>\n",
       "    <tr>\n",
       "      <th>4</th>\n",
       "      <td>10.0</td>\n",
       "      <td>this is an amazing co-op game.  i play mostly ...</td>\n",
       "    </tr>\n",
       "    <tr>\n",
       "      <th>5</th>\n",
       "      <td>10.0</td>\n",
       "      <td>hey! i can finally rate this game i've been pl...</td>\n",
       "    </tr>\n",
       "    <tr>\n",
       "      <th>8</th>\n",
       "      <td>10.0</td>\n",
       "      <td>love it- great fun with my son. 2 plays so far...</td>\n",
       "    </tr>\n",
       "    <tr>\n",
       "      <th>...</th>\n",
       "      <td>...</td>\n",
       "      <td>...</td>\n",
       "    </tr>\n",
       "    <tr>\n",
       "      <th>15823242</th>\n",
       "      <td>10.0</td>\n",
       "      <td>ks collector's bundle with a friend of mine</td>\n",
       "    </tr>\n",
       "    <tr>\n",
       "      <th>15823247</th>\n",
       "      <td>10.0</td>\n",
       "      <td>belekokio gerumo...</td>\n",
       "    </tr>\n",
       "    <tr>\n",
       "      <th>15823253</th>\n",
       "      <td>10.0</td>\n",
       "      <td>excelente!! lo mejor que probé.</td>\n",
       "    </tr>\n",
       "    <tr>\n",
       "      <th>15823264</th>\n",
       "      <td>8.0</td>\n",
       "      <td>turn based preview looks very promising. the g...</td>\n",
       "    </tr>\n",
       "    <tr>\n",
       "      <th>15823265</th>\n",
       "      <td>8.0</td>\n",
       "      <td>ks</td>\n",
       "    </tr>\n",
       "  </tbody>\n",
       "</table>\n",
       "<p>2995023 rows × 2 columns</p>\n",
       "</div>"
      ],
      "text/plain": [
       "          rating                                            comment\n",
       "1           10.0  hands down my favorite new game of bgg con 200...\n",
       "2           10.0  i tend to either love or easily tire of co-op ...\n",
       "4           10.0  this is an amazing co-op game.  i play mostly ...\n",
       "5           10.0  hey! i can finally rate this game i've been pl...\n",
       "8           10.0  love it- great fun with my son. 2 plays so far...\n",
       "...          ...                                                ...\n",
       "15823242    10.0        ks collector's bundle with a friend of mine\n",
       "15823247    10.0                                belekokio gerumo...\n",
       "15823253    10.0                    excelente!! lo mejor que probé.\n",
       "15823264     8.0  turn based preview looks very promising. the g...\n",
       "15823265     8.0                                                 ks\n",
       "\n",
       "[2995023 rows x 2 columns]"
      ]
     },
     "execution_count": 7,
     "metadata": {},
     "output_type": "execute_result"
    }
   ],
   "source": [
    "data=data.dropna(subset=[\"comment\"])\n",
    "data"
   ]
  },
  {
   "cell_type": "markdown",
   "metadata": {},
   "source": [
    "### Shuffling the data for the randomness in the predictions"
   ]
  },
  {
   "cell_type": "code",
   "execution_count": 8,
   "metadata": {},
   "outputs": [
    {
     "data": {
      "text/html": [
       "<div>\n",
       "<style scoped>\n",
       "    .dataframe tbody tr th:only-of-type {\n",
       "        vertical-align: middle;\n",
       "    }\n",
       "\n",
       "    .dataframe tbody tr th {\n",
       "        vertical-align: top;\n",
       "    }\n",
       "\n",
       "    .dataframe thead th {\n",
       "        text-align: right;\n",
       "    }\n",
       "</style>\n",
       "<table border=\"1\" class=\"dataframe\">\n",
       "  <thead>\n",
       "    <tr style=\"text-align: right;\">\n",
       "      <th></th>\n",
       "      <th>rating</th>\n",
       "      <th>comment</th>\n",
       "    </tr>\n",
       "  </thead>\n",
       "  <tbody>\n",
       "    <tr>\n",
       "      <th>15534844</th>\n",
       "      <td>10.0</td>\n",
       "      <td>very fun party game. way more creative and int...</td>\n",
       "    </tr>\n",
       "    <tr>\n",
       "      <th>10491463</th>\n",
       "      <td>6.0</td>\n",
       "      <td>the system, while simple and accessible, doesn...</td>\n",
       "    </tr>\n",
       "    <tr>\n",
       "      <th>11794250</th>\n",
       "      <td>8.0</td>\n",
       "      <td>we have had lots of fun playing this game.</td>\n",
       "    </tr>\n",
       "    <tr>\n",
       "      <th>7808374</th>\n",
       "      <td>6.0</td>\n",
       "      <td>just becuase you've added stuff, doesn't mean ...</td>\n",
       "    </tr>\n",
       "    <tr>\n",
       "      <th>15750725</th>\n",
       "      <td>6.0</td>\n",
       "      <td>4+ players</td>\n",
       "    </tr>\n",
       "    <tr>\n",
       "      <th>...</th>\n",
       "      <td>...</td>\n",
       "      <td>...</td>\n",
       "    </tr>\n",
       "    <tr>\n",
       "      <th>5255190</th>\n",
       "      <td>5.0</td>\n",
       "      <td>it's a good game don't get me wrong almost bei...</td>\n",
       "    </tr>\n",
       "    <tr>\n",
       "      <th>1048429</th>\n",
       "      <td>8.0</td>\n",
       "      <td>zawiera dodatek: dodatkowa przyczepa (big expa...</td>\n",
       "    </tr>\n",
       "    <tr>\n",
       "      <th>3826211</th>\n",
       "      <td>8.0</td>\n",
       "      <td>very entertaining game with strategic possibil...</td>\n",
       "    </tr>\n",
       "    <tr>\n",
       "      <th>12635308</th>\n",
       "      <td>7.5</td>\n",
       "      <td>2015.5 8.7</td>\n",
       "    </tr>\n",
       "    <tr>\n",
       "      <th>3517523</th>\n",
       "      <td>7.0</td>\n",
       "      <td>created a co-op</td>\n",
       "    </tr>\n",
       "  </tbody>\n",
       "</table>\n",
       "<p>2995023 rows × 2 columns</p>\n",
       "</div>"
      ],
      "text/plain": [
       "          rating                                            comment\n",
       "15534844    10.0  very fun party game. way more creative and int...\n",
       "10491463     6.0  the system, while simple and accessible, doesn...\n",
       "11794250     8.0         we have had lots of fun playing this game.\n",
       "7808374      6.0  just becuase you've added stuff, doesn't mean ...\n",
       "15750725     6.0                                         4+ players\n",
       "...          ...                                                ...\n",
       "5255190      5.0  it's a good game don't get me wrong almost bei...\n",
       "1048429      8.0  zawiera dodatek: dodatkowa przyczepa (big expa...\n",
       "3826211      8.0  very entertaining game with strategic possibil...\n",
       "12635308     7.5                                         2015.5 8.7\n",
       "3517523      7.0                                    created a co-op\n",
       "\n",
       "[2995023 rows x 2 columns]"
      ]
     },
     "execution_count": 8,
     "metadata": {},
     "output_type": "execute_result"
    }
   ],
   "source": [
    "data=data.sample(frac=1)\n",
    "data"
   ]
  },
  {
   "cell_type": "markdown",
   "metadata": {},
   "source": [
    "As the rating values are like 8.6, 8.7, 8.8 we will round off the rating values to get 10 classes for the 10 classifications."
   ]
  },
  {
   "cell_type": "code",
   "execution_count": 10,
   "metadata": {},
   "outputs": [
    {
     "data": {
      "text/plain": [
       "15534844    10.0\n",
       "10491463     6.0\n",
       "11794250     8.0\n",
       "7808374      6.0\n",
       "15750725     6.0\n",
       "            ... \n",
       "5255190      5.0\n",
       "1048429      8.0\n",
       "3826211      8.0\n",
       "12635308     8.0\n",
       "3517523      7.0\n",
       "Name: rating, Length: 2995023, dtype: float64"
      ]
     },
     "execution_count": 10,
     "metadata": {},
     "output_type": "execute_result"
    }
   ],
   "source": [
    "#X=data.iloc[:,1]\n",
    "X=text_counts\n",
    "Y= data.iloc[:,0]\n",
    "Y= np.rint(Y)\n",
    "Y"
   ]
  },
  {
   "cell_type": "markdown",
   "metadata": {},
   "source": [
    "### For this project I will use various classifiers and then will select the best classifier among them\n",
    "1. Naive Bayes (MultinominalNB and BernouliNB)\n",
    "2. Decision Tree\n",
    "3. SVM\n",
    "4. Ridge Classifier\n",
    "\n",
    "For this above mentioned classifiers I will try 3 different approaches for document and word processing to get best results\n",
    "\n",
    "1. CounterVectorization\n",
    "2. TfidfVectorizer\n",
    "3. HashingVectorizer"
   ]
  },
  {
   "cell_type": "markdown",
   "metadata": {},
   "source": [
    "### 1. CounterVectorization:\n",
    "The count vectorizer is used to tokenize documents and build vocabulary of meaningful words and to encode new documents with vocabulary.. We will tokenize the data and build vocabulary from given review data and then provide that data to our various classifiers to analyze the results.\n",
    "We will also use n_gram range for our countervectorizer, an n-gram is a contiguous sequence of n items from a given sample of text which will give us a list where n-words will occur frequently "
   ]
  },
  {
   "cell_type": "markdown",
   "metadata": {},
   "source": [
    "### Initializing CounterVectorizer"
   ]
  },
  {
   "cell_type": "code",
   "execution_count": 9,
   "metadata": {},
   "outputs": [],
   "source": [
    "token = RegexpTokenizer(r'[a-zA-Z0-9]+')\n",
    "cv = CountVectorizer(stop_words='english',ngram_range = (1,1),tokenizer = token.tokenize)\n",
    "text_counts = cv.fit_transform(data['comment'])"
   ]
  },
  {
   "cell_type": "markdown",
   "metadata": {},
   "source": [
    "### Splitting the dataset into Training, Development and Testing sets"
   ]
  },
  {
   "cell_type": "code",
   "execution_count": 11,
   "metadata": {},
   "outputs": [
    {
     "data": {
      "text/plain": [
       "<224626x410683 sparse matrix of type '<class 'numpy.int64'>'\n",
       "\twith 3876698 stored elements in Compressed Sparse Row format>"
      ]
     },
     "execution_count": 11,
     "metadata": {},
     "output_type": "execute_result"
    }
   ],
   "source": [
    "train_set=[]\n",
    "test_set=[]\n",
    "dev_set=[]\n",
    "xtrain, xtest, ytrain, ytest = train_test_split(X, Y, test_size=0.2, random_state=1)\n",
    "\n",
    "xtrain, xdev, ytrain, ydev = train_test_split(xtrain, ytrain, test_size=0.25, random_state=1) \n",
    "xtrain\n",
    "#train_set, dev_set, test_set = np.split(data, [int(.6*len(data)), int(.8*len(data))])\n",
    "#print(len(train_set),len(dev_set),len(test_set))"
   ]
  },
  {
   "cell_type": "markdown",
   "metadata": {},
   "source": [
    "### Implementing Naive Bayes Algorithm"
   ]
  },
  {
   "cell_type": "markdown",
   "metadata": {},
   "source": [
    "### MultinomialNB\n",
    "MultinomialNB implements the naive Bayes algorithm for multinomially distributed data, and is one of the two classic naive Bayes variants used in text classification where the data are typically represented as word vector counts."
   ]
  },
  {
   "cell_type": "code",
   "execution_count": 12,
   "metadata": {},
   "outputs": [
    {
     "data": {
      "text/plain": [
       "MultinomialNB()"
      ]
     },
     "execution_count": 12,
     "metadata": {},
     "output_type": "execute_result"
    }
   ],
   "source": [
    "MNB = MultinomialNB()\n",
    "MNB.fit(xtrain, ytrain)"
   ]
  },
  {
   "cell_type": "code",
   "execution_count": 13,
   "metadata": {},
   "outputs": [],
   "source": [
    "predicted = MNB.predict(xdev)\n",
    "accuracy_score = metrics.accuracy_score(predicted, ydev)"
   ]
  },
  {
   "cell_type": "code",
   "execution_count": 14,
   "metadata": {},
   "outputs": [
    {
     "name": "stdout",
     "output_type": "stream",
     "text": [
      "30.00%\n"
     ]
    }
   ],
   "source": [
    "print(str('{:04.2f}'.format(accuracy_score*100))+'%')"
   ]
  },
  {
   "cell_type": "code",
   "execution_count": 17,
   "metadata": {},
   "outputs": [
    {
     "name": "stdout",
     "output_type": "stream",
     "text": [
      "Smooth naive Classifier Accuracy:  65.982424274801\n"
     ]
    }
   ],
   "source": [
    "print('Smooth naive Classifier Accuracy: ', accuracy_metric(list(ydev), np.round(predicted)))"
   ]
  },
  {
   "cell_type": "code",
   "execution_count": 18,
   "metadata": {},
   "outputs": [],
   "source": [
    "mnb=accuracy_metric(list(ydev), np.round(predicted))"
   ]
  },
  {
   "cell_type": "markdown",
   "metadata": {},
   "source": [
    "### BernoulliNB\n",
    "BernoulliNB implements the naive Bayes training and classification algorithms for data that is distributed according to multivariate Bernoulli distributions; i.e., there may be multiple features but each one is assumed to be a binary-valued (Bernoulli, boolean) variable. "
   ]
  },
  {
   "cell_type": "code",
   "execution_count": 19,
   "metadata": {},
   "outputs": [
    {
     "name": "stdout",
     "output_type": "stream",
     "text": [
      "BNB accuracy = 28.61%\n"
     ]
    }
   ],
   "source": [
    "BNB = BernoulliNB()\n",
    "BNB.fit(xtrain, ytrain)\n",
    "accuracy_score_bnb = metrics.accuracy_score(BNB.predict(xdev),ydev)\n",
    "print('BNB accuracy = ' + str('{:4.2f}'.format(accuracy_score_bnb*100))+'%')"
   ]
  },
  {
   "cell_type": "code",
   "execution_count": 20,
   "metadata": {},
   "outputs": [
    {
     "name": "stdout",
     "output_type": "stream",
     "text": [
      "Smooth BernNb Classifier Accuracy:  64.37710347774987\n"
     ]
    }
   ],
   "source": [
    "print('Smooth BernNb Classifier Accuracy: ', accuracy_metric(list(ydev), np.round(BNB.predict(xdev))))"
   ]
  },
  {
   "cell_type": "code",
   "execution_count": 21,
   "metadata": {},
   "outputs": [],
   "source": [
    "bnb=accuracy_metric(list(ydev), np.round(BNB.predict(xdev)))"
   ]
  },
  {
   "cell_type": "markdown",
   "metadata": {},
   "source": [
    "### Decision Tree\n",
    "Decision Trees are the popular way to to split data based on classes or conditions which are used for both regression and classification tasks. Decision Trees splits the data according to conditions and based on that assigns values to the each node calculating impurity of the classified solution. Here we will be using <b>gini index</b> as our impurity criterion.\n"
   ]
  },
  {
   "cell_type": "code",
   "execution_count": 22,
   "metadata": {},
   "outputs": [
    {
     "name": "stdout",
     "output_type": "stream",
     "text": [
      "Decision tree accuracy:  25.269779368556012\n"
     ]
    }
   ],
   "source": [
    "clf = DecisionTreeClassifier(criterion=\"gini\", max_depth=2, min_samples_split=20, min_samples_leaf=5).fit(xtrain, ytrain)\n",
    "predict_y = clf.predict(xdev)\n",
    "print('Decision tree accuracy: ', metrics.accuracy_score(ydev, predict_y)*100)"
   ]
  },
  {
   "cell_type": "code",
   "execution_count": 23,
   "metadata": {},
   "outputs": [
    {
     "name": "stdout",
     "output_type": "stream",
     "text": [
      "Smooth Decision Classifier Accuracy:  56.506757839628186\n"
     ]
    }
   ],
   "source": [
    "print('Smooth Decision Classifier Accuracy: ', accuracy_metric(list(ydev), np.round(predict_y)))"
   ]
  },
  {
   "cell_type": "code",
   "execution_count": 24,
   "metadata": {},
   "outputs": [],
   "source": [
    "dt=accuracy_metric(list(ydev), np.round(predict_y))"
   ]
  },
  {
   "cell_type": "markdown",
   "metadata": {},
   "source": [
    "### Support Vector Machine\n",
    "Support Vector Machine is a very famous machine learning classifier which divides the data into the hyperplanes by separating the classes by drawing different lines according to the data and then selects the best line which is most equidistant from the each class.\n"
   ]
  },
  {
   "cell_type": "code",
   "execution_count": 119,
   "metadata": {},
   "outputs": [
    {
     "name": "stdout",
     "output_type": "stream",
     "text": [
      "SVM accuracy:  27.57\n"
     ]
    }
   ],
   "source": [
    "clf = svm.LinearSVC(C=1.0, penalty='l2').fit(xtrain, ytrain)\n",
    "predict_y = clf.predict(xdev)\n",
    "print('SVM accuracy: ', metrics.accuracy_score(ydev, predict_y))"
   ]
  },
  {
   "cell_type": "code",
   "execution_count": 120,
   "metadata": {},
   "outputs": [
    {
     "name": "stdout",
     "output_type": "stream",
     "text": [
      "Smooth SVM Accuracy:  64.56\n"
     ]
    }
   ],
   "source": [
    "print('Smooth SVM Accuracy: ', accuracy_metric(list(ydev), np.round(predict_y)))"
   ]
  },
  {
   "cell_type": "code",
   "execution_count": 121,
   "metadata": {},
   "outputs": [],
   "source": [
    "svmv=accuracy_metric(list(ydev), np.round(predict_y))"
   ]
  },
  {
   "cell_type": "markdown",
   "metadata": {},
   "source": [
    "### Ridge Classifier\n",
    "Ridge classifier is a classification algorithm that uses ridge regression to classify multi-nomial values. For multi-class classification, n_class classifiers are trained in a one-versus-all approach."
   ]
  },
  {
   "cell_type": "code",
   "execution_count": 25,
   "metadata": {},
   "outputs": [],
   "source": [
    "rc = RidgeClassifier()\n",
    "rc.fit(xtrain, ytrain)\n",
    "score = rc.score(xtrain, ytrain)\n"
   ]
  },
  {
   "cell_type": "code",
   "execution_count": 26,
   "metadata": {},
   "outputs": [
    {
     "name": "stdout",
     "output_type": "stream",
     "text": [
      "Ridge Classifier Accuracy:  0.2878225332549816\n"
     ]
    }
   ],
   "source": [
    "srv=rc.predict(xdev)\n",
    "print('Ridge Classifier Accuracy: ', metrics.accuracy_score(ydev, srv))"
   ]
  },
  {
   "cell_type": "code",
   "execution_count": 27,
   "metadata": {
    "scrolled": true
   },
   "outputs": [
    {
     "name": "stdout",
     "output_type": "stream",
     "text": [
      "Ridge Classifier Accuracy:  65.78342860195522\n"
     ]
    }
   ],
   "source": [
    "print('Ridge Classifier Accuracy: ', accuracy_metric(list(ydev), np.round(srv)))"
   ]
  },
  {
   "cell_type": "code",
   "execution_count": 30,
   "metadata": {},
   "outputs": [],
   "source": [
    "rcv=accuracy_metric(list(ydev), np.round(srv))"
   ]
  },
  {
   "cell_type": "code",
   "execution_count": 43,
   "metadata": {},
   "outputs": [
    {
     "data": {
      "image/png": "[encoded data removed]",
      "text/plain": [
       "<Figure size 432x288 with 1 Axes>"
      ]
     },
     "metadata": {
      "needs_background": "light"
     },
     "output_type": "display_data"
    }
   ],
   "source": [
    "acc=[mnb,bnb,dt,svmv,rcv]\n",
    "val=['MultinomialNB','BernouliNB','Decision Tree','SVM','Ridge']\n",
    "plt.bar(val,acc, color='g',width=0.25)\n"
   ]
  },
  {
   "cell_type": "markdown",
   "metadata": {},
   "source": [
    "### Smoothing:\n",
    "Smoothing plays an important role in improving accuracy. In this data we can see that our models predicted values very poorly,that is because of the 10 different rating classes each being checked for the exact value. As part of smoothing we can consider rating one below and above is same as the actual rating this will improve our accuracy dramatically."
   ]
  },
  {
   "cell_type": "code",
   "execution_count": 16,
   "metadata": {},
   "outputs": [],
   "source": [
    "def accuracy_metric(actual, predicted):\n",
    "    correct = 0\n",
    "    for i in range(len(actual)):\n",
    "        if actual[i] == predicted[i] or actual[i] == predicted[i]+1 or actual[i] == predicted[i]-1:\n",
    "            correct += 1\n",
    "    return correct / float(len(actual)) * 100.0"
   ]
  },
  {
   "cell_type": "markdown",
   "metadata": {},
   "source": [
    "### 2. TF- IDF:\n",
    "TF-IDF is a short for Term Frequency- Inverse Document Frequency which denotes how a word is important to the document which means that the word has more occurance in the vocabulary and inversely propotional to the occurance in the document gives the importance of the given word."
   ]
  },
  {
   "cell_type": "code",
   "execution_count": 45,
   "metadata": {},
   "outputs": [
    {
     "name": "stdout",
     "output_type": "stream",
     "text": [
      "accuracy_score_mnb = 27.18%\n"
     ]
    }
   ],
   "source": [
    "tfidf = TfidfVectorizer()\n",
    "text_count_2 = tfidf.fit_transform(data['comment'])\n",
    "\n",
    "xtrain, xtest, ytrain, ytest = train_test_split(text_count_2, Y, test_size=0.2, random_state=1)\n",
    "\n",
    "xtrain, xdev, ytrain, ydev = train_test_split(xtrain, ytrain, test_size=0.25, random_state=1) \n",
    "\n",
    "\n",
    "MNB.fit(xtrain, ytrain)\n",
    "accuracy_score_mnb_tf = metrics.accuracy_score(MNB.predict(xdev), ydev)\n",
    "print('accuracy_score_mnb = '+str('{:4.2f}'.format(accuracy_score_mnb_tf*100))+'%')"
   ]
  },
  {
   "cell_type": "code",
   "execution_count": 69,
   "metadata": {},
   "outputs": [
    {
     "name": "stdout",
     "output_type": "stream",
     "text": [
      "Smooth naive Classifier Accuracy:  65.982424274801\n"
     ]
    }
   ],
   "source": [
    "print('Smooth naive Classifier Accuracy: ', accuracy_metric(list(ydev), np.round(predicted)))"
   ]
  },
  {
   "cell_type": "code",
   "execution_count": 53,
   "metadata": {},
   "outputs": [],
   "source": [
    "mnbtf=accuracy_metric(list(ydev), np.round(predicted))"
   ]
  },
  {
   "cell_type": "markdown",
   "metadata": {},
   "source": [
    "### BernoulliNB"
   ]
  },
  {
   "cell_type": "code",
   "execution_count": 48,
   "metadata": {},
   "outputs": [
    {
     "name": "stdout",
     "output_type": "stream",
     "text": [
      "BNB accuracy = 28.61%\n"
     ]
    }
   ],
   "source": [
    "from sklearn.naive_bayes import BernoulliNB\n",
    "BNB = BernoulliNB()\n",
    "BNB.fit(xtrain, ytrain)\n",
    "accuracy_score_bnb_tf = metrics.accuracy_score(BNB.predict(xdev),ydev)\n",
    "print('BNB accuracy = ' + str('{:4.2f}'.format(accuracy_score_bnb*100))+'%')"
   ]
  },
  {
   "cell_type": "code",
   "execution_count": 49,
   "metadata": {},
   "outputs": [
    {
     "name": "stdout",
     "output_type": "stream",
     "text": [
      "Smooth BernNb Classifier Accuracy:  61.31337144078209\n"
     ]
    }
   ],
   "source": [
    "print('Smooth BernNb Classifier Accuracy: ', accuracy_metric(list(ydev), np.round(BNB.predict(xdev))))"
   ]
  },
  {
   "cell_type": "code",
   "execution_count": 54,
   "metadata": {},
   "outputs": [],
   "source": [
    "bnbtf=accuracy_metric(list(ydev), np.round(BNB.predict(xdev)))"
   ]
  },
  {
   "cell_type": "markdown",
   "metadata": {},
   "source": [
    "### Decision Tree"
   ]
  },
  {
   "cell_type": "code",
   "execution_count": 51,
   "metadata": {},
   "outputs": [
    {
     "name": "stdout",
     "output_type": "stream",
     "text": [
      "...Decision_tree...\n",
      "Decision tree accuracy:  26.17794753993269\n"
     ]
    }
   ],
   "source": [
    "print('...Decision_tree...')\n",
    "clf = DecisionTreeClassifier(criterion=\"gini\", max_depth=2, min_samples_split=20, min_samples_leaf=5).fit(xtrain, ytrain)\n",
    "predict_y = clf.predict(xdev)\n",
    "dec_tf=metrics.accuracy_score(ydev, predict_y)*100\n",
    "print('Decision tree accuracy: ', metrics.accuracy_score(ydev, predict_y)*100)\n"
   ]
  },
  {
   "cell_type": "code",
   "execution_count": 71,
   "metadata": {},
   "outputs": [
    {
     "name": "stdout",
     "output_type": "stream",
     "text": [
      "Smooth Decision Classifier Accuracy:  58.22159303381591\n"
     ]
    }
   ],
   "source": [
    "print('Smooth Decision Classifier Accuracy: ', accuracy_metric(list(ydev), np.round(predict_y)))"
   ]
  },
  {
   "cell_type": "code",
   "execution_count": 55,
   "metadata": {},
   "outputs": [],
   "source": [
    " dttf=accuracy_metric(list(ydev), np.round(predict_y))"
   ]
  },
  {
   "cell_type": "markdown",
   "metadata": {},
   "source": [
    "###  SVM"
   ]
  },
  {
   "cell_type": "code",
   "execution_count": 116,
   "metadata": {},
   "outputs": [
    {
     "name": "stdout",
     "output_type": "stream",
     "text": [
      "SVM accuracy:  28.28\n"
     ]
    }
   ],
   "source": [
    "clf = svm.LinearSVC(C=1.0, penalty='l2').fit(xtrain, ytrain)\n",
    "predict_y = clf.predict(xdev)\n",
    "svm_tf=metrics.accuracy_score(ydev, predict_y)\n",
    "print('SVM accuracy: ', metrics.accuracy_score(ydev, predict_y))"
   ]
  },
  {
   "cell_type": "code",
   "execution_count": 118,
   "metadata": {},
   "outputs": [
    {
     "name": "stdout",
     "output_type": "stream",
     "text": [
      "Smooth SVM Accuracy:  65.38\n"
     ]
    }
   ],
   "source": [
    "print('Smooth Decision Classifier Accuracy: ', accuracy_metric(list(ydev), np.round(predict_y)))"
   ]
  },
  {
   "cell_type": "code",
   "execution_count": null,
   "metadata": {},
   "outputs": [],
   "source": [
    " svmtf=accuracy_metric(list(ydev), np.round(predict_y))"
   ]
  },
  {
   "cell_type": "markdown",
   "metadata": {},
   "source": [
    "###  Ridge Classifier"
   ]
  },
  {
   "cell_type": "code",
   "execution_count": 56,
   "metadata": {},
   "outputs": [],
   "source": [
    "from sklearn.linear_model import RidgeClassifier\n",
    "rc = RidgeClassifier()\n",
    "rc.fit(xtrain, ytrain)\n",
    "score_tf = rc.score(xtrain, ytrain)"
   ]
  },
  {
   "cell_type": "code",
   "execution_count": 57,
   "metadata": {},
   "outputs": [
    {
     "name": "stdout",
     "output_type": "stream",
     "text": [
      "Ridge Classifier Accuracy:  0.30848335915380093\n"
     ]
    }
   ],
   "source": [
    "srv_tf=rc.predict(xdev)\n",
    "print('Ridge Classifier Accuracy: ', metrics.accuracy_score(ydev, srv_tf))"
   ]
  },
  {
   "cell_type": "code",
   "execution_count": 58,
   "metadata": {},
   "outputs": [
    {
     "name": "stdout",
     "output_type": "stream",
     "text": [
      "Ridge Classifier Accuracy:  68.70959987178801\n"
     ]
    }
   ],
   "source": [
    "print(' Smooth Ridge Classifier Accuracy: ', accuracy_metric(list(ydev), np.round(srv_tf)))"
   ]
  },
  {
   "cell_type": "code",
   "execution_count": 61,
   "metadata": {},
   "outputs": [],
   "source": [
    "rctf=accuracy_metric(list(ydev), np.round(srv_tf))\n",
    "svmtf=65.38"
   ]
  },
  {
   "cell_type": "markdown",
   "metadata": {},
   "source": [
    "###  Accuracy Graph"
   ]
  },
  {
   "cell_type": "code",
   "execution_count": 83,
   "metadata": {},
   "outputs": [
    {
     "data": {
      "text/plain": [
       "<BarContainer object of 5 artists>"
      ]
     },
     "execution_count": 83,
     "metadata": {},
     "output_type": "execute_result"
    },
    {
     "data": {
      "image/png": "[encoded data removed]",
      "text/plain": [
       "<Figure size 432x288 with 1 Axes>"
      ]
     },
     "metadata": {
      "needs_background": "light"
     },
     "output_type": "display_data"
    }
   ],
   "source": [
    "acc=[mnbtf,bnbtf,dttf,svmtf,rctf]\n",
    "val=['MultinomialNB','BernouliNB','Decision Tree','SVM','Ridge']\n",
    "plt.bar(val,acc, color='b',width=0.25)"
   ]
  },
  {
   "cell_type": "markdown",
   "metadata": {},
   "source": [
    "### 3. Hashing Vectorization\n",
    "\n",
    "Counts and frequencies can be very useful, but one limitation of these methods is that the vocabulary can become very large.\n",
    "\n",
    "This, in turn, will require large vectors for encoding documents and impose large requirements on memory and slow down algorithms.\n",
    "\n",
    "A clever work around is to use a one way hash of words to convert them to integers. The clever part is that no vocabulary is required and you can choose an arbitrary-long fixed length vector. A downside is that the hash is a one-way function so there is no way to convert the encoding back to a word (which may not matter for many supervised learning tasks).\n",
    "\n",
    "The HashingVectorizer class implements this approach that can be used to consistently hash words, then tokenize and encode documents as needed."
   ]
  },
  {
   "cell_type": "code",
   "execution_count": 63,
   "metadata": {},
   "outputs": [],
   "source": [
    "text = [\"The quick brown fox jumped over the lazy dog.\"]\n",
    "\n",
    "vectorizer = HashingVectorizer(n_features=20)\n",
    "text_count_3 = vectorizer.fit_transform(data['comment'])\n",
    "xtrain, xtest, ytrain, ytest = train_test_split(text_count_3, Y, test_size=0.2, random_state=1)\n",
    "\n",
    "xtrain, xdev, ytrain, ydev = train_test_split(xtrain, ytrain, test_size=0.25, random_state=1) \n",
    "\n"
   ]
  },
  {
   "cell_type": "markdown",
   "metadata": {},
   "source": [
    "###  Multinomial NB"
   ]
  },
  {
   "cell_type": "code",
   "execution_count": 106,
   "metadata": {},
   "outputs": [
    {
     "name": "stdout",
     "output_type": "stream",
     "text": [
      "Multinomial NB accuracy = 31.31%\n"
     ]
    }
   ],
   "source": [
    "MNB.fit(xtrain, ytrain)\n",
    "accuracy_score_mnb_hv = metrics.accuracy_score(MNB.predict(xtest), ytest)\n",
    "print('accuracy_score_mnb = '+str('{:4.2f}'.format(accuracy_score_mnb_hv*100))+'%')"
   ]
  },
  {
   "cell_type": "code",
   "execution_count": 107,
   "metadata": {},
   "outputs": [
    {
     "name": "stdout",
     "output_type": "stream",
     "text": [
      "Smooth Multinomial NB accuracy: 65.982424274801\n"
     ]
    }
   ],
   "source": [
    "print('Smooth Multinomial NB accuracy:', accuracy_metric(list(ydev), np.round(predicted)))"
   ]
  },
  {
   "cell_type": "markdown",
   "metadata": {},
   "source": [
    "###  Bernoulli NB"
   ]
  },
  {
   "cell_type": "code",
   "execution_count": 72,
   "metadata": {},
   "outputs": [
    {
     "name": "stdout",
     "output_type": "stream",
     "text": [
      "BNB accuracy = 28.61%\n"
     ]
    }
   ],
   "source": [
    "BNB = BernoulliNB()\n",
    "BNB.fit(xtrain, ytrain)\n",
    "accuracy_score_bnb_hv = metrics.accuracy_score(BNB.predict(xdev),ydev)\n",
    "print('BNB accuracy = ' + str('{:4.2f}'.format(accuracy_score_bnb*100))+'%')"
   ]
  },
  {
   "cell_type": "code",
   "execution_count": 108,
   "metadata": {},
   "outputs": [
    {
     "name": "stdout",
     "output_type": "stream",
     "text": [
      "Smooth BNB accuracy:  58.0319461509696\n"
     ]
    }
   ],
   "source": [
    "print('Smooth BNB accuracy: ', accuracy_metric(list(ydev), np.round(BNB.predict(xdev))))"
   ]
  },
  {
   "cell_type": "code",
   "execution_count": 80,
   "metadata": {},
   "outputs": [],
   "source": [
    "bnbhs=accuracy_metric(list(ydev), np.round(BNB.predict(xdev)))"
   ]
  },
  {
   "cell_type": "markdown",
   "metadata": {},
   "source": [
    "###  Decision Tree"
   ]
  },
  {
   "cell_type": "code",
   "execution_count": 74,
   "metadata": {},
   "outputs": [
    {
     "name": "stdout",
     "output_type": "stream",
     "text": [
      "Decision tree accuracy:  25.269779368556012\n"
     ]
    }
   ],
   "source": [
    "clf = DecisionTreeClassifier(criterion=\"gini\", max_depth=2, min_samples_split=20, min_samples_leaf=5).fit(xtrain, ytrain)\n",
    "predict_y = clf.predict(xdev)\n",
    "dec_hv=metrics.accuracy_score(ydev, predict_y)*100\n",
    "print('Decision tree accuracy: ', metrics.accuracy_score(ydev, predict_y)*100)"
   ]
  },
  {
   "cell_type": "code",
   "execution_count": 109,
   "metadata": {},
   "outputs": [
    {
     "name": "stdout",
     "output_type": "stream",
     "text": [
      "Smooth Decision Decision Tree:  56.506757839628186\n"
     ]
    }
   ],
   "source": [
    "print('Smooth Decision Decision Tree: ', accuracy_metric(list(ydev), np.round(predict_y)))"
   ]
  },
  {
   "cell_type": "code",
   "execution_count": 81,
   "metadata": {},
   "outputs": [],
   "source": [
    "dths=accuracy_metric(list(ydev), np.round(predict_y))"
   ]
  },
  {
   "cell_type": "markdown",
   "metadata": {},
   "source": [
    "###  SVM"
   ]
  },
  {
   "cell_type": "code",
   "execution_count": 113,
   "metadata": {},
   "outputs": [
    {
     "name": "stdout",
     "output_type": "stream",
     "text": [
      "SVM accuracy:  30.68\n"
     ]
    }
   ],
   "source": [
    "clf_hv = svm.LinearSVC(C=1.0, penalty='l2').fit(xtrain, ytrain)\n",
    "predict_y = clf.predict(xdev)\n",
    "svm_hv=metrics.accuracy_score(ydev, predict_y)*100\n",
    "print('SVM accuracy: ', metrics.accuracy_score(ydev, predict_y))"
   ]
  },
  {
   "cell_type": "code",
   "execution_count": 114,
   "metadata": {},
   "outputs": [
    {
     "name": "stdout",
     "output_type": "stream",
     "text": [
      "Smooth SVM accuracy:  58.67\n"
     ]
    }
   ],
   "source": [
    "print('Smooth SVM accuracy: ',  accuracy_metric(list(ydev), np.round(predict_y)))"
   ]
  },
  {
   "cell_type": "code",
   "execution_count": 122,
   "metadata": {},
   "outputs": [],
   "source": [
    "svmhs=accuracy_metric(list(ydev), np.round(predict_y))"
   ]
  },
  {
   "cell_type": "markdown",
   "metadata": {},
   "source": [
    "###  Ridge Classifier"
   ]
  },
  {
   "cell_type": "code",
   "execution_count": 76,
   "metadata": {},
   "outputs": [],
   "source": [
    "rc = RidgeClassifier()\n",
    "rc.fit(xtrain, ytrain)\n",
    "score_hv = rc.score(xtrain, ytrain)"
   ]
  },
  {
   "cell_type": "code",
   "execution_count": 78,
   "metadata": {},
   "outputs": [
    {
     "name": "stdout",
     "output_type": "stream",
     "text": [
      "Ridge Classifier Accuracy:  25.299161279982908\n"
     ]
    }
   ],
   "source": [
    "srv_hs=rc.predict(xdev)\n",
    "print('Ridge Classifier Accuracy: ', metrics.accuracy_score(ydev, srv_hs)*100)"
   ]
  },
  {
   "cell_type": "code",
   "execution_count": 89,
   "metadata": {},
   "outputs": [
    {
     "name": "stdout",
     "output_type": "stream",
     "text": [
      "Ridge Classifier Accuracy:  57.83428601955233\n"
     ]
    }
   ],
   "source": [
    "print('Ridge Classifier Accuracy: ', accuracy_metric(list(ydev), np.round(srv_hs)))"
   ]
  },
  {
   "cell_type": "code",
   "execution_count": 90,
   "metadata": {},
   "outputs": [],
   "source": [
    "rchs=accuracy_metric(list(ydev), np.round(srv_hs))"
   ]
  },
  {
   "cell_type": "code",
   "execution_count": 111,
   "metadata": {},
   "outputs": [
    {
     "data": {
      "text/plain": [
       "<BarContainer object of 5 artists>"
      ]
     },
     "execution_count": 111,
     "metadata": {},
     "output_type": "execute_result"
    },
    {
     "data": {
      "image/png": "[encoded data removed]",
      "text/plain": [
       "<Figure size 432x288 with 1 Axes>"
      ]
     },
     "metadata": {
      "needs_background": "light"
     },
     "output_type": "display_data"
    }
   ],
   "source": [
    "acc=[mnbhs,bnbhs,dths,svmhs,rchs]\n",
    "val=['MultinomialNB','BernouliNB','Decision Tree','SVM','Ridge']\n",
    "plt.bar(val,acc, color='r',width=0.25)"
   ]
  },
  {
   "cell_type": "markdown",
   "metadata": {},
   "source": [
    "### Best Model\n",
    "As we can see that the model with TF-IDF vectorization performs best among other models we will select this model as our final model."
   ]
  },
  {
   "cell_type": "markdown",
   "metadata": {},
   "source": [
    "### K-Fold Cross Validation\n",
    "To get the accurate result we will run the 10-Fold cross validation on our selected model and run it on the test dataset"
   ]
  },
  {
   "cell_type": "code",
   "execution_count": 100,
   "metadata": {},
   "outputs": [
    {
     "name": "stdout",
     "output_type": "stream",
     "text": [
      "CV average score: 25.26\n"
     ]
    }
   ],
   "source": [
    "cv_scores = cross_val_score(rc, xtest, ytest, cv=5)\n",
    "print(\"CV average score: %.2f\" % (cv_scores.mean()*100))"
   ]
  },
  {
   "cell_type": "markdown",
   "metadata": {},
   "source": [
    "### Saving the model\n",
    "Now we will save the model to deploy it on our cloud hosted website"
   ]
  },
  {
   "cell_type": "code",
   "execution_count": 102,
   "metadata": {},
   "outputs": [
    {
     "name": "stdout",
     "output_type": "stream",
     "text": [
      "Model Saved\n"
     ]
    }
   ],
   "source": [
    "filename = 'tfrc.sav'\n",
    "pickle.dump(rc, open(filename, 'wb'))\n",
    "pickle.dump(cv, open('cv', 'wb'))\n",
    "print(\"Model Saved\")"
   ]
  },
  {
   "cell_type": "markdown",
   "metadata": {},
   "source": [
    "### Challanges:\n",
    "The main challenge was that the data was large in size and needed cleaning and an efficient way to vectorizee the data so that it can process faster. \n",
    "in order to overcome that challege I implemented and tested various vectorization methods with different algorithms to get the best output along with that i had to convert data according to those methods as the data type was different for various methods."
   ]
  },
  {
   "cell_type": "markdown",
   "metadata": {},
   "source": [
    "### Difference from the references:\n",
    "My main reference to this project was https://towardsdatascience.com/sentiment-analysis-introduction-to-naive-bayes-algorithm-96831d77ac91 which includes the brief implementation of naive bayes along with some other classifiers starting with that I have made several changes according to our data  first being different document vectorizing methods  with more algortihms such as LinearSVM and Ridge classifier along with that I trained models of each algortihm of different document vectorizing methods to get the best algorithm with good hyperparamters. to make sure of the accuracy I also ran the 5-Fold Cross validation of the test dataset to get the best results"
   ]
  },
  {
   "cell_type": "markdown",
   "metadata": {},
   "source": [
    "### References:\n",
    "https://towardsdatascience.com/sentiment-analysis-introduction-to-naive-bayes-algorithm-96831d77ac91\n",
    "https://machinelearningmastery.com/prepare-text-data-machine-learning-scikit-learn/\n",
    "https://scikit-learn.org/stable/modules/naive_bayes.html#multinomial-naive-bayes\n",
    "https://scikit-learn.org/stable/tutorial/machine_learning_map/index.html\n",
    "https://lijiancheng0614.github.io/scikit-learn/modules/generated/sklearn.linear_model.RidgeClassifier.html\n",
    "https://scikit-learn.org/stable/modules/generated/sklearn.feature_extraction.text.TfidfTransformer.html\n",
    "https://scikit-learn.org/stable/modules/generated/sklearn.feature_extraction.text.CountVectorizer.html\n",
    "https://towardsdatascience.com/support-vector-machine-introduction-to-machine-learning-algorithms-934a444fca47\n",
    "https://towardsdatascience.com/decision-tree-in-machine-learning-e380942a4c96"
   ]
  },
  {
   "cell_type": "code",
   "execution_count": null,
   "metadata": {},
   "outputs": [],
   "source": []
  }
 ],
 "metadata": {
  "kernelspec": {
   "display_name": "Python 3",
   "language": "python",
   "name": "python3"
  },
  "language_info": {
   "codemirror_mode": {
    "name": "ipython",
    "version": 3
   },
   "file_extension": ".py",
   "mimetype": "text/x-python",
   "name": "python",
   "nbconvert_exporter": "python",
   "pygments_lexer": "ipython3",
   "version": "3.7.6"
  }
 },
 "nbformat": 4,
 "nbformat_minor": 4
}
